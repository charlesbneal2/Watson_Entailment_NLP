{
 "cells": [
  {
   "cell_type": "markdown",
   "id": "6a56a028",
   "metadata": {
    "papermill": {
     "duration": 0.02028,
     "end_time": "2022-07-04T21:13:59.265733",
     "exception": false,
     "start_time": "2022-07-04T21:13:59.245453",
     "status": "completed"
    },
    "tags": []
   },
   "source": [
    "# Contradictory, My Dear Watson - NLP Project\n",
    "In this project, we will build a Natural Language Processing (NLP) model which will classify pairs of sentences as 'entailment' , 'contradiction', or 'neutral'. This is a classic problem in NLP called Natural Language Inferencing, which involves the comparison of **premise** and **hypothesis** statements to determine a relationship. Such classification would be useful for programs which navigate human conversation (chatbots, AI writing tools, etc.) in order to better parse the flow of conversation and navigate dialog trees. \n",
    "\n",
    "The datset for this project is provided on Kaggle https://www.kaggle.com/competitions/contradictory-my-dear-watson/data. The model built here will be submitted as an entry for this competition. "
   ]
  },
  {
   "cell_type": "markdown",
   "id": "e27647ab",
   "metadata": {
    "papermill": {
     "duration": 0.018854,
     "end_time": "2022-07-04T21:13:59.306524",
     "exception": false,
     "start_time": "2022-07-04T21:13:59.287670",
     "status": "completed"
    },
    "tags": []
   },
   "source": [
    "## Data Exploration\n",
    "The training data provided consists of several thousand sentence pairs across a number of unique languages. Let's import the data and get a sense of the variables provided."
   ]
  },
  {
   "cell_type": "code",
   "execution_count": 1,
   "id": "e4ecda18",
   "metadata": {
    "execution": {
     "iopub.execute_input": "2022-07-04T21:13:59.354446Z",
     "iopub.status.busy": "2022-07-04T21:13:59.353454Z",
     "iopub.status.idle": "2022-07-04T21:14:06.451809Z",
     "shell.execute_reply": "2022-07-04T21:14:06.450699Z",
     "shell.execute_reply.started": "2022-07-04T20:51:22.197697Z"
    },
    "papermill": {
     "duration": 7.126179,
     "end_time": "2022-07-04T21:14:06.451981",
     "exception": false,
     "start_time": "2022-07-04T21:13:59.325802",
     "status": "completed"
    },
    "tags": []
   },
   "outputs": [
    {
     "name": "stderr",
     "output_type": "stream",
     "text": [
      "2022-07-04 21:14:01.433773: W tensorflow/stream_executor/platform/default/dso_loader.cc:60] Could not load dynamic library 'libcudart.so.11.0'; dlerror: libcudart.so.11.0: cannot open shared object file: No such file or directory; LD_LIBRARY_PATH: /opt/conda/lib\n",
      "2022-07-04 21:14:01.433880: I tensorflow/stream_executor/cuda/cudart_stub.cc:29] Ignore above cudart dlerror if you do not have a GPU set up on your machine.\n"
     ]
    }
   ],
   "source": [
    "# import pertinent libraries\n",
    "import pandas as pd\n",
    "import numpy as np\n",
    "import matplotlib.pyplot as plt\n",
    "import seaborn as sns\n",
    "from transformers import BertTokenizer, TFBertModel\n",
    "import tensorflow as tf\n",
    "\n",
    "import os"
   ]
  },
  {
   "cell_type": "code",
   "execution_count": 2,
   "id": "8745cde8",
   "metadata": {
    "execution": {
     "iopub.execute_input": "2022-07-04T21:14:06.495367Z",
     "iopub.status.busy": "2022-07-04T21:14:06.494757Z",
     "iopub.status.idle": "2022-07-04T21:14:06.658342Z",
     "shell.execute_reply": "2022-07-04T21:14:06.658843Z",
     "shell.execute_reply.started": "2022-07-04T20:51:29.967123Z"
    },
    "papermill": {
     "duration": 0.186562,
     "end_time": "2022-07-04T21:14:06.659013",
     "exception": false,
     "start_time": "2022-07-04T21:14:06.472451",
     "status": "completed"
    },
    "tags": []
   },
   "outputs": [
    {
     "data": {
      "text/html": [
       "<div>\n",
       "<style scoped>\n",
       "    .dataframe tbody tr th:only-of-type {\n",
       "        vertical-align: middle;\n",
       "    }\n",
       "\n",
       "    .dataframe tbody tr th {\n",
       "        vertical-align: top;\n",
       "    }\n",
       "\n",
       "    .dataframe thead th {\n",
       "        text-align: right;\n",
       "    }\n",
       "</style>\n",
       "<table border=\"1\" class=\"dataframe\">\n",
       "  <thead>\n",
       "    <tr style=\"text-align: right;\">\n",
       "      <th></th>\n",
       "      <th>id</th>\n",
       "      <th>premise</th>\n",
       "      <th>hypothesis</th>\n",
       "      <th>lang_abv</th>\n",
       "      <th>language</th>\n",
       "      <th>label</th>\n",
       "    </tr>\n",
       "  </thead>\n",
       "  <tbody>\n",
       "    <tr>\n",
       "      <th>0</th>\n",
       "      <td>5130fd2cb5</td>\n",
       "      <td>and these comments were considered in formulat...</td>\n",
       "      <td>The rules developed in the interim were put to...</td>\n",
       "      <td>en</td>\n",
       "      <td>English</td>\n",
       "      <td>0</td>\n",
       "    </tr>\n",
       "    <tr>\n",
       "      <th>1</th>\n",
       "      <td>5b72532a0b</td>\n",
       "      <td>These are issues that we wrestle with in pract...</td>\n",
       "      <td>Practice groups are not permitted to work on t...</td>\n",
       "      <td>en</td>\n",
       "      <td>English</td>\n",
       "      <td>2</td>\n",
       "    </tr>\n",
       "    <tr>\n",
       "      <th>2</th>\n",
       "      <td>3931fbe82a</td>\n",
       "      <td>Des petites choses comme celles-là font une di...</td>\n",
       "      <td>J'essayais d'accomplir quelque chose.</td>\n",
       "      <td>fr</td>\n",
       "      <td>French</td>\n",
       "      <td>0</td>\n",
       "    </tr>\n",
       "    <tr>\n",
       "      <th>3</th>\n",
       "      <td>5622f0c60b</td>\n",
       "      <td>you know they can't really defend themselves l...</td>\n",
       "      <td>They can't defend themselves because of their ...</td>\n",
       "      <td>en</td>\n",
       "      <td>English</td>\n",
       "      <td>0</td>\n",
       "    </tr>\n",
       "    <tr>\n",
       "      <th>4</th>\n",
       "      <td>86aaa48b45</td>\n",
       "      <td>ในการเล่นบทบาทสมมุติก็เช่นกัน โอกาสที่จะได้แสด...</td>\n",
       "      <td>เด็กสามารถเห็นได้ว่าชาติพันธุ์แตกต่างกันอย่างไร</td>\n",
       "      <td>th</td>\n",
       "      <td>Thai</td>\n",
       "      <td>1</td>\n",
       "    </tr>\n",
       "  </tbody>\n",
       "</table>\n",
       "</div>"
      ],
      "text/plain": [
       "           id                                            premise  \\\n",
       "0  5130fd2cb5  and these comments were considered in formulat...   \n",
       "1  5b72532a0b  These are issues that we wrestle with in pract...   \n",
       "2  3931fbe82a  Des petites choses comme celles-là font une di...   \n",
       "3  5622f0c60b  you know they can't really defend themselves l...   \n",
       "4  86aaa48b45  ในการเล่นบทบาทสมมุติก็เช่นกัน โอกาสที่จะได้แสด...   \n",
       "\n",
       "                                          hypothesis lang_abv language  label  \n",
       "0  The rules developed in the interim were put to...       en  English      0  \n",
       "1  Practice groups are not permitted to work on t...       en  English      2  \n",
       "2              J'essayais d'accomplir quelque chose.       fr   French      0  \n",
       "3  They can't defend themselves because of their ...       en  English      0  \n",
       "4    เด็กสามารถเห็นได้ว่าชาติพันธุ์แตกต่างกันอย่างไร       th     Thai      1  "
      ]
     },
     "execution_count": 2,
     "metadata": {},
     "output_type": "execute_result"
    }
   ],
   "source": [
    "# load the training data into a pandas data frame\n",
    "train = pd.read_csv(\"../input/contradictory-my-dear-watson/train.csv\")\n",
    "\n",
    "# print first five rows of the data\n",
    "train.head()"
   ]
  },
  {
   "cell_type": "markdown",
   "id": "cc5f79c4",
   "metadata": {
    "papermill": {
     "duration": 0.020344,
     "end_time": "2022-07-04T21:14:06.699904",
     "exception": false,
     "start_time": "2022-07-04T21:14:06.679560",
     "status": "completed"
    },
    "tags": []
   },
   "source": [
    "Our sentences for comparison can be found in the 'premise' and 'hypothesis' columns. These statements can range across languages specified in the 'lang_abv' and 'language' columns. The 'label' column designates the human label describing the relationship between these variables; 0 = 'entailment', 1 = 'neutral', 2 = 'contradiction'. Let's get an example of a pair in english."
   ]
  },
  {
   "cell_type": "code",
   "execution_count": 3,
   "id": "64a0c6ec",
   "metadata": {
    "execution": {
     "iopub.execute_input": "2022-07-04T21:14:06.749053Z",
     "iopub.status.busy": "2022-07-04T21:14:06.748357Z",
     "iopub.status.idle": "2022-07-04T21:14:06.750821Z",
     "shell.execute_reply": "2022-07-04T21:14:06.751279Z",
     "shell.execute_reply.started": "2022-07-04T20:51:30.113718Z"
    },
    "papermill": {
     "duration": 0.031087,
     "end_time": "2022-07-04T21:14:06.751431",
     "exception": false,
     "start_time": "2022-07-04T21:14:06.720344",
     "status": "completed"
    },
    "tags": []
   },
   "outputs": [
    {
     "data": {
      "text/plain": [
       "'and these comments were considered in formulating the interim rules.'"
      ]
     },
     "execution_count": 3,
     "metadata": {},
     "output_type": "execute_result"
    }
   ],
   "source": [
    "train.premise[0]"
   ]
  },
  {
   "cell_type": "code",
   "execution_count": 4,
   "id": "4cafaae0",
   "metadata": {
    "execution": {
     "iopub.execute_input": "2022-07-04T21:14:06.799426Z",
     "iopub.status.busy": "2022-07-04T21:14:06.798845Z",
     "iopub.status.idle": "2022-07-04T21:14:06.801073Z",
     "shell.execute_reply": "2022-07-04T21:14:06.801558Z",
     "shell.execute_reply.started": "2022-07-04T20:51:30.129930Z"
    },
    "papermill": {
     "duration": 0.029793,
     "end_time": "2022-07-04T21:14:06.801710",
     "exception": false,
     "start_time": "2022-07-04T21:14:06.771917",
     "status": "completed"
    },
    "tags": []
   },
   "outputs": [
    {
     "data": {
      "text/plain": [
       "'The rules developed in the interim were put together with these comments in mind.'"
      ]
     },
     "execution_count": 4,
     "metadata": {},
     "output_type": "execute_result"
    }
   ],
   "source": [
    "train.hypothesis[0]"
   ]
  },
  {
   "cell_type": "markdown",
   "id": "a8c15866",
   "metadata": {
    "papermill": {
     "duration": 0.020513,
     "end_time": "2022-07-04T21:14:06.842864",
     "exception": false,
     "start_time": "2022-07-04T21:14:06.822351",
     "status": "completed"
    },
    "tags": []
   },
   "source": [
    "These sentences entail each other, because the truth of one requires the truth of the other. This is pretty intuitive to English-speaking human minds. Let's look at an example of a contradiction. "
   ]
  },
  {
   "cell_type": "code",
   "execution_count": 5,
   "id": "c35ec8cf",
   "metadata": {
    "execution": {
     "iopub.execute_input": "2022-07-04T21:14:06.888327Z",
     "iopub.status.busy": "2022-07-04T21:14:06.887743Z",
     "iopub.status.idle": "2022-07-04T21:14:06.892821Z",
     "shell.execute_reply": "2022-07-04T21:14:06.892207Z",
     "shell.execute_reply.started": "2022-07-04T20:51:30.140824Z"
    },
    "papermill": {
     "duration": 0.028435,
     "end_time": "2022-07-04T21:14:06.892949",
     "exception": false,
     "start_time": "2022-07-04T21:14:06.864514",
     "status": "completed"
    },
    "tags": []
   },
   "outputs": [
    {
     "data": {
      "text/plain": [
       "'These are issues that we wrestle with in practice groups of law firms, she said. '"
      ]
     },
     "execution_count": 5,
     "metadata": {},
     "output_type": "execute_result"
    }
   ],
   "source": [
    "train.premise[1]"
   ]
  },
  {
   "cell_type": "code",
   "execution_count": 6,
   "id": "5e9447be",
   "metadata": {
    "execution": {
     "iopub.execute_input": "2022-07-04T21:14:06.941060Z",
     "iopub.status.busy": "2022-07-04T21:14:06.940278Z",
     "iopub.status.idle": "2022-07-04T21:14:06.943402Z",
     "shell.execute_reply": "2022-07-04T21:14:06.943941Z",
     "shell.execute_reply.started": "2022-07-04T20:51:30.151974Z"
    },
    "papermill": {
     "duration": 0.029968,
     "end_time": "2022-07-04T21:14:06.944100",
     "exception": false,
     "start_time": "2022-07-04T21:14:06.914132",
     "status": "completed"
    },
    "tags": []
   },
   "outputs": [
    {
     "data": {
      "text/plain": [
       "'Practice groups are not permitted to work on these issues.'"
      ]
     },
     "execution_count": 6,
     "metadata": {},
     "output_type": "execute_result"
    }
   ],
   "source": [
    "train.hypothesis[1]"
   ]
  },
  {
   "cell_type": "markdown",
   "id": "defce126",
   "metadata": {
    "papermill": {
     "duration": 0.021396,
     "end_time": "2022-07-04T21:14:06.987427",
     "exception": false,
     "start_time": "2022-07-04T21:14:06.966031",
     "status": "completed"
    },
    "tags": []
   },
   "source": [
    "These statements are contradictory. If practice groups are not permitted to work on these issues, then they cannot be the issues that the law firms wrestle with in their practice groups.\n",
    "\n",
    "Let's look at the distribution of languages available to our training set."
   ]
  },
  {
   "cell_type": "code",
   "execution_count": 7,
   "id": "b9ca4861",
   "metadata": {
    "execution": {
     "iopub.execute_input": "2022-07-04T21:14:07.036041Z",
     "iopub.status.busy": "2022-07-04T21:14:07.035079Z",
     "iopub.status.idle": "2022-07-04T21:14:07.320717Z",
     "shell.execute_reply": "2022-07-04T21:14:07.321185Z",
     "shell.execute_reply.started": "2022-07-04T20:51:30.162927Z"
    },
    "papermill": {
     "duration": 0.312133,
     "end_time": "2022-07-04T21:14:07.321346",
     "exception": false,
     "start_time": "2022-07-04T21:14:07.009213",
     "status": "completed"
    },
    "scrolled": true,
    "tags": []
   },
   "outputs": [
    {
     "data": {
      "image/png": "[encoded data removed]",
      "text/plain": [
       "<Figure size 720x720 with 1 Axes>"
      ]
     },
     "metadata": {},
     "output_type": "display_data"
    }
   ],
   "source": [
    "# Group data drame by language and count the number of entries in each language\n",
    "language_counts = train.language.value_counts()\n",
    "\n",
    "# Plot the percent of total entries for each language\n",
    "%matplotlib inline\n",
    "plt.figure(figsize = (10,10))\n",
    "plt.pie(language_counts, autopct = '%1.1f%%', labels = language_counts.index, startangle=75)\n",
    "plt.show()\n"
   ]
  },
  {
   "cell_type": "markdown",
   "id": "64f28984",
   "metadata": {
    "papermill": {
     "duration": 0.023785,
     "end_time": "2022-07-04T21:14:07.369762",
     "exception": false,
     "start_time": "2022-07-04T21:14:07.345977",
     "status": "completed"
    },
    "tags": []
   },
   "source": [
    "## Data Preparation\n",
    "We have a good spread of languages here! It may seem daunting, but luckily we do not need to re-invent the wheel or learn 10+ new languages. Luckily, the folks over at huggingface have already put together a nice package for the analysis of multilingual data sets. To start with, we will use their BERT model: https://github.com/google-research/bert/blob/master/multilingual.md\n",
    "\n",
    "The data needs to be tokenized - the words transformed into arrays of numbers. "
   ]
  },
  {
   "cell_type": "code",
   "execution_count": 8,
   "id": "fd90bec7",
   "metadata": {
    "execution": {
     "iopub.execute_input": "2022-07-04T21:14:07.423723Z",
     "iopub.status.busy": "2022-07-04T21:14:07.423009Z",
     "iopub.status.idle": "2022-07-04T21:14:09.716506Z",
     "shell.execute_reply": "2022-07-04T21:14:09.715964Z",
     "shell.execute_reply.started": "2022-07-04T20:51:30.464253Z"
    },
    "papermill": {
     "duration": 2.322854,
     "end_time": "2022-07-04T21:14:09.716669",
     "exception": false,
     "start_time": "2022-07-04T21:14:07.393815",
     "status": "completed"
    },
    "tags": []
   },
   "outputs": [
    {
     "data": {
      "application/vnd.jupyter.widget-view+json": {
       "model_id": "23d4afadb06444368f7596bb208ae9a2",
       "version_major": 2,
       "version_minor": 0
      },
      "text/plain": [
       "Downloading:   0%|          | 0.00/996k [00:00<?, ?B/s]"
      ]
     },
     "metadata": {},
     "output_type": "display_data"
    },
    {
     "data": {
      "application/vnd.jupyter.widget-view+json": {
       "model_id": "af97823dabb348dc94ed1de45c675137",
       "version_major": 2,
       "version_minor": 0
      },
      "text/plain": [
       "Downloading:   0%|          | 0.00/29.0 [00:00<?, ?B/s]"
      ]
     },
     "metadata": {},
     "output_type": "display_data"
    },
    {
     "data": {
      "application/vnd.jupyter.widget-view+json": {
       "model_id": "73e4cac73b2a40f1bbc8e1c9452ad777",
       "version_major": 2,
       "version_minor": 0
      },
      "text/plain": [
       "Downloading:   0%|          | 0.00/1.96M [00:00<?, ?B/s]"
      ]
     },
     "metadata": {},
     "output_type": "display_data"
    },
    {
     "data": {
      "text/plain": [
       "[10243, 54261, 10531, 49219, 102]"
      ]
     },
     "execution_count": 8,
     "metadata": {},
     "output_type": "execute_result"
    }
   ],
   "source": [
    "# Download BERT model\n",
    "model_name = 'bert-base-multilingual-cased'\n",
    "tokenizer = BertTokenizer.from_pretrained(model_name)\n",
    "\n",
    "# function to apply tokenizer to sentence\n",
    "def encode_sentence(sentence):\n",
    "    tokens = list(tokenizer.tokenize(sentence))\n",
    "    tokens.append('[SEP]')\n",
    "    return tokenizer.convert_tokens_to_ids(tokens)\n",
    "\n",
    "# Test function on example sentence\n",
    "encode_sentence('Encode this sentence')"
   ]
  },
  {
   "cell_type": "code",
   "execution_count": 9,
   "id": "71ec5a0a",
   "metadata": {
    "execution": {
     "iopub.execute_input": "2022-07-04T21:14:09.836939Z",
     "iopub.status.busy": "2022-07-04T21:14:09.835876Z",
     "iopub.status.idle": "2022-07-04T21:14:15.947964Z",
     "shell.execute_reply": "2022-07-04T21:14:15.948801Z",
     "shell.execute_reply.started": "2022-07-04T20:51:32.930708Z"
    },
    "papermill": {
     "duration": 6.20668,
     "end_time": "2022-07-04T21:14:15.949043",
     "exception": false,
     "start_time": "2022-07-04T21:14:09.742363",
     "status": "completed"
    },
    "tags": []
   },
   "outputs": [
    {
     "name": "stderr",
     "output_type": "stream",
     "text": [
      "2022-07-04 21:14:09.776650: I tensorflow/compiler/jit/xla_cpu_device.cc:41] Not creating XLA devices, tf_xla_enable_xla_devices not set\n",
      "2022-07-04 21:14:09.779631: W tensorflow/stream_executor/platform/default/dso_loader.cc:60] Could not load dynamic library 'libcuda.so.1'; dlerror: libcuda.so.1: cannot open shared object file: No such file or directory; LD_LIBRARY_PATH: /opt/conda/lib\n",
      "2022-07-04 21:14:09.779675: W tensorflow/stream_executor/cuda/cuda_driver.cc:326] failed call to cuInit: UNKNOWN ERROR (303)\n",
      "2022-07-04 21:14:09.779701: I tensorflow/stream_executor/cuda/cuda_diagnostics.cc:156] kernel driver does not appear to be running on this host (9260187615e7): /proc/driver/nvidia/version does not exist\n",
      "2022-07-04 21:14:09.782813: I tensorflow/core/platform/cpu_feature_guard.cc:142] This TensorFlow binary is optimized with oneAPI Deep Neural Network Library (oneDNN) to use the following CPU instructions in performance-critical operations:  AVX2 FMA\n",
      "To enable them in other operations, rebuild TensorFlow with the appropriate compiler flags.\n",
      "2022-07-04 21:14:09.784382: I tensorflow/compiler/jit/xla_gpu_device.cc:99] Not creating XLA devices, tf_xla_enable_xla_devices not set\n",
      "2022-07-04 21:14:09.789962: I tensorflow/compiler/jit/xla_gpu_device.cc:99] Not creating XLA devices, tf_xla_enable_xla_devices not set\n",
      "2022-07-04 21:14:09.815134: I tensorflow/core/distributed_runtime/rpc/grpc_channel.cc:301] Initialize GrpcChannelCache for job worker -> {0 -> 10.0.0.2:8470}\n",
      "2022-07-04 21:14:09.815178: I tensorflow/core/distributed_runtime/rpc/grpc_channel.cc:301] Initialize GrpcChannelCache for job localhost -> {0 -> localhost:30019}\n",
      "2022-07-04 21:14:09.832549: I tensorflow/core/distributed_runtime/rpc/grpc_channel.cc:301] Initialize GrpcChannelCache for job worker -> {0 -> 10.0.0.2:8470}\n",
      "2022-07-04 21:14:09.832591: I tensorflow/core/distributed_runtime/rpc/grpc_channel.cc:301] Initialize GrpcChannelCache for job localhost -> {0 -> localhost:30019}\n",
      "2022-07-04 21:14:09.834061: I tensorflow/core/distributed_runtime/rpc/grpc_server_lib.cc:411] Started server with target: grpc://localhost:30019\n"
     ]
    }
   ],
   "source": [
    "# set up tensor processing units\n",
    "try:\n",
    "    tpu = tf.distribute.cluster_resolver.TPUClusterResolver()\n",
    "    tf.config.experimental_connect_to_cluster(tpu)\n",
    "    tf.tpu.experimental.initialize_tpu_system(tpu)\n",
    "    strategy = tf.distribute.experimental.TPUStrategy(tpu)\n",
    "except ValueError:\n",
    "    strategy = tf.distribute.get_strategy()\n",
    "    print('Number of replicas:', strategy.num_replicas_in_sync)"
   ]
  },
  {
   "cell_type": "markdown",
   "id": "3945ab30",
   "metadata": {
    "papermill": {
     "duration": 0.028824,
     "end_time": "2022-07-04T21:14:16.010732",
     "exception": false,
     "start_time": "2022-07-04T21:14:15.981908",
     "status": "completed"
    },
    "tags": []
   },
   "source": [
    "The BERT model takes three inputs: input word IDs, input masks, and input type IDs. We need to add a [CLS] token to designate beginning of inputs, and add [SEP] tokens to designate the separation between premises and hypotheses. Inputs need to be the same size, so we will have to add some padding. \n",
    "\n",
    "Let's encode the training set."
   ]
  },
  {
   "cell_type": "code",
   "execution_count": 10,
   "id": "f665cc00",
   "metadata": {
    "execution": {
     "iopub.execute_input": "2022-07-04T21:14:16.081162Z",
     "iopub.status.busy": "2022-07-04T21:14:16.080229Z",
     "iopub.status.idle": "2022-07-04T21:14:16.085532Z",
     "shell.execute_reply": "2022-07-04T21:14:16.086017Z",
     "shell.execute_reply.started": "2022-07-04T20:51:39.079388Z"
    },
    "papermill": {
     "duration": 0.047245,
     "end_time": "2022-07-04T21:14:16.086173",
     "exception": false,
     "start_time": "2022-07-04T21:14:16.038928",
     "status": "completed"
    },
    "tags": []
   },
   "outputs": [],
   "source": [
    "# encodes training data using the tokenizer\n",
    "def bert_encode(hypotheses, premises, tokenizer):\n",
    "    # save number of samples\n",
    "    n = len(hypotheses)\n",
    "    \n",
    "    hyp = tf.ragged.constant([encode_sentence(s) for s in np.array(hypotheses)])\n",
    "    pre = tf.ragged.constant([encode_sentence(s) for s in np.array(premises)])\n",
    "    \n",
    "    # generate cls tokens\n",
    "    cls = [tokenizer.convert_tokens_to_ids(['[CLS]'])] * hyp.shape[0]\n",
    "    \n",
    "    # generate input word ids\n",
    "    input_word_ids = tf.concat([cls, hyp, pre], axis=-1)\n",
    "    \n",
    "    # generate input mask\n",
    "    input_mask = tf.ones_like(input_word_ids).to_tensor(shape=[input_word_ids.shape[0], 200])\n",
    "    \n",
    "    type_cls = tf.zeros_like(cls)\n",
    "    type_hyp = tf.zeros_like(hyp)\n",
    "    type_pre = tf.ones_like(pre)\n",
    "    \n",
    "    input_type_ids = tf.concat([type_cls, type_hyp, type_pre], axis=-1).to_tensor(shape=[input_word_ids.shape[0], 200])\n",
    "    \n",
    "    # format encoded inputs and return\n",
    "    inputs = {\n",
    "        'input_word_ids': input_word_ids.to_tensor(shape=[input_word_ids.shape[0], 200]),\n",
    "        'input_mask': input_mask,\n",
    "        'input_type_ids': input_type_ids\n",
    "    }\n",
    "    \n",
    "    return inputs"
   ]
  },
  {
   "cell_type": "code",
   "execution_count": 11,
   "id": "ea426148",
   "metadata": {
    "execution": {
     "iopub.execute_input": "2022-07-04T21:14:16.143041Z",
     "iopub.status.busy": "2022-07-04T21:14:16.142072Z",
     "iopub.status.idle": "2022-07-04T21:14:30.620830Z",
     "shell.execute_reply": "2022-07-04T21:14:30.620140Z",
     "shell.execute_reply.started": "2022-07-04T20:51:39.091251Z"
    },
    "papermill": {
     "duration": 14.508554,
     "end_time": "2022-07-04T21:14:30.620983",
     "exception": false,
     "start_time": "2022-07-04T21:14:16.112429",
     "status": "completed"
    },
    "tags": []
   },
   "outputs": [],
   "source": [
    "# encode training set\n",
    "train_encoded = bert_encode(train.premise.values, train.hypothesis.values, tokenizer)"
   ]
  },
  {
   "cell_type": "markdown",
   "id": "fa0eddc0",
   "metadata": {
    "papermill": {
     "duration": 0.026134,
     "end_time": "2022-07-04T21:14:30.673917",
     "exception": false,
     "start_time": "2022-07-04T21:14:30.647783",
     "status": "completed"
    },
    "tags": []
   },
   "source": [
    "## Model Building & Training\n",
    "Let's incorporate the BERT transformer into a Keras Functional Model (https://www.tensorflow.org/guide/keras/functional)."
   ]
  },
  {
   "cell_type": "code",
   "execution_count": 12,
   "id": "84452d97",
   "metadata": {
    "execution": {
     "iopub.execute_input": "2022-07-04T21:14:30.730361Z",
     "iopub.status.busy": "2022-07-04T21:14:30.729760Z",
     "iopub.status.idle": "2022-07-04T21:14:30.737012Z",
     "shell.execute_reply": "2022-07-04T21:14:30.737579Z",
     "shell.execute_reply.started": "2022-07-04T20:51:53.747822Z"
    },
    "papermill": {
     "duration": 0.037528,
     "end_time": "2022-07-04T21:14:30.737752",
     "exception": false,
     "start_time": "2022-07-04T21:14:30.700224",
     "status": "completed"
    },
    "tags": []
   },
   "outputs": [],
   "source": [
    "# builds model by incorporating BERT transformer into Keras Functional Model\n",
    "max_len = 200\n",
    "def build_model():\n",
    "    bert_encoder = TFBertModel.from_pretrained(model_name)\n",
    "    input_word_ids = tf.keras.Input(shape=(max_len,), dtype=tf.int32, name='input_word_ids')\n",
    "    input_mask = tf.keras.Input(shape=(max_len,), dtype=tf.int32, name='input_mask')\n",
    "    input_type_ids = tf.keras.Input(shape=(max_len,), dtype=tf.int32, name='input_type_ids')\n",
    "    \n",
    "    embedding = bert_encoder([input_word_ids, input_mask, input_type_ids])[0]\n",
    "    output = tf.keras.layers.Dense(3, activation='softmax')(embedding[:,0,:])\n",
    "    \n",
    "    model = tf.keras.Model(inputs=[input_word_ids, input_mask, input_type_ids], outputs=output)\n",
    "    model.compile(tf.keras.optimizers.Adam(lr=1e-5), loss='sparse_categorical_crossentropy', metrics=['accuracy'])\n",
    "    \n",
    "    return model"
   ]
  },
  {
   "cell_type": "code",
   "execution_count": 13,
   "id": "a1a298d8",
   "metadata": {
    "execution": {
     "iopub.execute_input": "2022-07-04T21:14:30.792755Z",
     "iopub.status.busy": "2022-07-04T21:14:30.792139Z",
     "iopub.status.idle": "2022-07-04T21:15:36.856695Z",
     "shell.execute_reply": "2022-07-04T21:15:36.857526Z",
     "shell.execute_reply.started": "2022-07-04T20:51:53.758612Z"
    },
    "papermill": {
     "duration": 66.094112,
     "end_time": "2022-07-04T21:15:36.857996",
     "exception": false,
     "start_time": "2022-07-04T21:14:30.763884",
     "status": "completed"
    },
    "tags": []
   },
   "outputs": [
    {
     "data": {
      "application/vnd.jupyter.widget-view+json": {
       "model_id": "6589bd414b6e45678bad19ba4f074e4e",
       "version_major": 2,
       "version_minor": 0
      },
      "text/plain": [
       "Downloading:   0%|          | 0.00/625 [00:00<?, ?B/s]"
      ]
     },
     "metadata": {},
     "output_type": "display_data"
    },
    {
     "data": {
      "application/vnd.jupyter.widget-view+json": {
       "model_id": "fbd963ff68ef49b4b85ceac2fc0f5870",
       "version_major": 2,
       "version_minor": 0
      },
      "text/plain": [
       "Downloading:   0%|          | 0.00/1.08G [00:00<?, ?B/s]"
      ]
     },
     "metadata": {},
     "output_type": "display_data"
    },
    {
     "name": "stderr",
     "output_type": "stream",
     "text": [
      "Some layers from the model checkpoint at bert-base-multilingual-cased were not used when initializing TFBertModel: ['nsp___cls', 'mlm___cls']\n",
      "- This IS expected if you are initializing TFBertModel from the checkpoint of a model trained on another task or with another architecture (e.g. initializing a BertForSequenceClassification model from a BertForPreTraining model).\n",
      "- This IS NOT expected if you are initializing TFBertModel from the checkpoint of a model that you expect to be exactly identical (initializing a BertForSequenceClassification model from a BertForSequenceClassification model).\n",
      "All the layers of TFBertModel were initialized from the model checkpoint at bert-base-multilingual-cased.\n",
      "If your task is similar to the task the model of the checkpoint was trained on, you can already use TFBertModel for predictions without further training.\n"
     ]
    },
    {
     "name": "stdout",
     "output_type": "stream",
     "text": [
      "Model: \"model\"\n",
      "__________________________________________________________________________________________________\n",
      "Layer (type)                    Output Shape         Param #     Connected to                     \n",
      "==================================================================================================\n",
      "input_word_ids (InputLayer)     [(None, 200)]        0                                            \n",
      "__________________________________________________________________________________________________\n",
      "input_mask (InputLayer)         [(None, 200)]        0                                            \n",
      "__________________________________________________________________________________________________\n",
      "input_type_ids (InputLayer)     [(None, 200)]        0                                            \n",
      "__________________________________________________________________________________________________\n",
      "tf_bert_model (TFBertModel)     TFBaseModelOutputWit 177853440   input_word_ids[0][0]             \n",
      "                                                                 input_mask[0][0]                 \n",
      "                                                                 input_type_ids[0][0]             \n",
      "__________________________________________________________________________________________________\n",
      "tf.__operators__.getitem (Slici (None, 768)          0           tf_bert_model[0][0]              \n",
      "__________________________________________________________________________________________________\n",
      "dense (Dense)                   (None, 3)            2307        tf.__operators__.getitem[0][0]   \n",
      "==================================================================================================\n",
      "Total params: 177,855,747\n",
      "Trainable params: 177,855,747\n",
      "Non-trainable params: 0\n",
      "__________________________________________________________________________________________________\n"
     ]
    }
   ],
   "source": [
    "# build model\n",
    "with strategy.scope():\n",
    "    model = build_model()\n",
    "    model.summary()"
   ]
  },
  {
   "cell_type": "code",
   "execution_count": 14,
   "id": "827adc83",
   "metadata": {
    "execution": {
     "iopub.execute_input": "2022-07-04T21:15:36.938109Z",
     "iopub.status.busy": "2022-07-04T21:15:36.937292Z",
     "iopub.status.idle": "2022-07-04T21:18:13.687872Z",
     "shell.execute_reply": "2022-07-04T21:18:13.688364Z",
     "shell.execute_reply.started": "2022-07-04T20:53:13.863361Z"
    },
    "papermill": {
     "duration": 156.794299,
     "end_time": "2022-07-04T21:18:13.688562",
     "exception": false,
     "start_time": "2022-07-04T21:15:36.894263",
     "status": "completed"
    },
    "tags": []
   },
   "outputs": [
    {
     "name": "stdout",
     "output_type": "stream",
     "text": [
      "Epoch 1/2\n",
      "152/152 [==============================] - 141s 464ms/step - loss: 1.0839 - accuracy: 0.4318 - val_loss: 0.8523 - val_accuracy: 0.6217\n",
      "Epoch 2/2\n",
      "152/152 [==============================] - 15s 102ms/step - loss: 0.7900 - accuracy: 0.6563 - val_loss: 0.7991 - val_accuracy: 0.6522\n"
     ]
    },
    {
     "data": {
      "text/plain": [
       "<tensorflow.python.keras.callbacks.History at 0x7f16207333d0>"
      ]
     },
     "execution_count": 14,
     "metadata": {},
     "output_type": "execute_result"
    }
   ],
   "source": [
    "# fit the model to our training data\n",
    "model.fit(train_encoded, train.label.values, epochs=2, verbose=1, batch_size=64, validation_split=0.2)"
   ]
  },
  {
   "cell_type": "code",
   "execution_count": 15,
   "id": "e106b7cb",
   "metadata": {
    "execution": {
     "iopub.execute_input": "2022-07-04T21:18:13.936234Z",
     "iopub.status.busy": "2022-07-04T21:18:13.935627Z",
     "iopub.status.idle": "2022-07-04T21:18:20.263259Z",
     "shell.execute_reply": "2022-07-04T21:18:20.264050Z",
     "shell.execute_reply.started": "2022-07-04T20:55:53.644363Z"
    },
    "papermill": {
     "duration": 6.455164,
     "end_time": "2022-07-04T21:18:20.264232",
     "exception": false,
     "start_time": "2022-07-04T21:18:13.809068",
     "status": "completed"
    },
    "tags": []
   },
   "outputs": [],
   "source": [
    "# test the fitted model with the test data\n",
    "test = pd.read_csv(\"../input/contradictory-my-dear-watson/test.csv\")\n",
    "test_encoded = bert_encode(test.premise.values, test.hypothesis.values, tokenizer)"
   ]
  },
  {
   "cell_type": "code",
   "execution_count": 16,
   "id": "694299cf",
   "metadata": {
    "execution": {
     "iopub.execute_input": "2022-07-04T21:18:20.519708Z",
     "iopub.status.busy": "2022-07-04T21:18:20.518774Z",
     "iopub.status.idle": "2022-07-04T21:18:20.522379Z",
     "shell.execute_reply": "2022-07-04T21:18:20.522896Z",
     "shell.execute_reply.started": "2022-07-04T20:56:00.217295Z"
    },
    "papermill": {
     "duration": 0.137378,
     "end_time": "2022-07-04T21:18:20.523065",
     "exception": false,
     "start_time": "2022-07-04T21:18:20.385687",
     "status": "completed"
    },
    "tags": []
   },
   "outputs": [
    {
     "data": {
      "text/html": [
       "<div>\n",
       "<style scoped>\n",
       "    .dataframe tbody tr th:only-of-type {\n",
       "        vertical-align: middle;\n",
       "    }\n",
       "\n",
       "    .dataframe tbody tr th {\n",
       "        vertical-align: top;\n",
       "    }\n",
       "\n",
       "    .dataframe thead th {\n",
       "        text-align: right;\n",
       "    }\n",
       "</style>\n",
       "<table border=\"1\" class=\"dataframe\">\n",
       "  <thead>\n",
       "    <tr style=\"text-align: right;\">\n",
       "      <th></th>\n",
       "      <th>id</th>\n",
       "      <th>premise</th>\n",
       "      <th>hypothesis</th>\n",
       "      <th>lang_abv</th>\n",
       "      <th>language</th>\n",
       "    </tr>\n",
       "  </thead>\n",
       "  <tbody>\n",
       "    <tr>\n",
       "      <th>0</th>\n",
       "      <td>c6d58c3f69</td>\n",
       "      <td>بکس، کیسی، راہیل، یسعیاہ، کیلی، کیلی، اور کولم...</td>\n",
       "      <td>کیسی کے لئے کوئی یادگار نہیں ہوگا, کولمین ہائی...</td>\n",
       "      <td>ur</td>\n",
       "      <td>Urdu</td>\n",
       "    </tr>\n",
       "    <tr>\n",
       "      <th>1</th>\n",
       "      <td>cefcc82292</td>\n",
       "      <td>هذا هو ما تم نصحنا به.</td>\n",
       "      <td>عندما يتم إخبارهم بما يجب عليهم فعله ، فشلت ال...</td>\n",
       "      <td>ar</td>\n",
       "      <td>Arabic</td>\n",
       "    </tr>\n",
       "    <tr>\n",
       "      <th>2</th>\n",
       "      <td>e98005252c</td>\n",
       "      <td>et cela est en grande partie dû au fait que le...</td>\n",
       "      <td>Les mères se droguent.</td>\n",
       "      <td>fr</td>\n",
       "      <td>French</td>\n",
       "    </tr>\n",
       "    <tr>\n",
       "      <th>3</th>\n",
       "      <td>58518c10ba</td>\n",
       "      <td>与城市及其他公民及社区组织代表就IMA的艺术发展进行对话&amp;amp</td>\n",
       "      <td>IMA与其他组织合作，因为它们都依靠共享资金。</td>\n",
       "      <td>zh</td>\n",
       "      <td>Chinese</td>\n",
       "    </tr>\n",
       "    <tr>\n",
       "      <th>4</th>\n",
       "      <td>c32b0d16df</td>\n",
       "      <td>Она все еще была там.</td>\n",
       "      <td>Мы думали, что она ушла, однако, она осталась.</td>\n",
       "      <td>ru</td>\n",
       "      <td>Russian</td>\n",
       "    </tr>\n",
       "  </tbody>\n",
       "</table>\n",
       "</div>"
      ],
      "text/plain": [
       "           id                                            premise  \\\n",
       "0  c6d58c3f69  بکس، کیسی، راہیل، یسعیاہ، کیلی، کیلی، اور کولم...   \n",
       "1  cefcc82292                             هذا هو ما تم نصحنا به.   \n",
       "2  e98005252c  et cela est en grande partie dû au fait que le...   \n",
       "3  58518c10ba                   与城市及其他公民及社区组织代表就IMA的艺术发展进行对话&amp   \n",
       "4  c32b0d16df                              Она все еще была там.   \n",
       "\n",
       "                                          hypothesis lang_abv language  \n",
       "0  کیسی کے لئے کوئی یادگار نہیں ہوگا, کولمین ہائی...       ur     Urdu  \n",
       "1  عندما يتم إخبارهم بما يجب عليهم فعله ، فشلت ال...       ar   Arabic  \n",
       "2                             Les mères se droguent.       fr   French  \n",
       "3                            IMA与其他组织合作，因为它们都依靠共享资金。       zh  Chinese  \n",
       "4     Мы думали, что она ушла, однако, она осталась.       ru  Russian  "
      ]
     },
     "execution_count": 16,
     "metadata": {},
     "output_type": "execute_result"
    }
   ],
   "source": [
    "# examine test head\n",
    "test.head()"
   ]
  },
  {
   "cell_type": "markdown",
   "id": "97b9f345",
   "metadata": {
    "papermill": {
     "duration": 0.122243,
     "end_time": "2022-07-04T21:18:20.766240",
     "exception": false,
     "start_time": "2022-07-04T21:18:20.643997",
     "status": "completed"
    },
    "tags": []
   },
   "source": [
    "## Generating and Submitting Predictions\n",
    "Now that we have our fit model, we can use the encoded test data to generate predictions. These predictions will be compared to the true results to give us our Kaggle ranking. Our trained model received an accuracy score of ~64% on the validation data; This is a good place to start, but a look to the leaderboards shows that many models are scoring over 98%! How can we improve our tensorflow model from here?"
   ]
  },
  {
   "cell_type": "code",
   "execution_count": 17,
   "id": "ca355c7a",
   "metadata": {
    "execution": {
     "iopub.execute_input": "2022-07-04T21:18:21.018551Z",
     "iopub.status.busy": "2022-07-04T21:18:21.017865Z",
     "iopub.status.idle": "2022-07-04T21:18:35.466002Z",
     "shell.execute_reply": "2022-07-04T21:18:35.465437Z",
     "shell.execute_reply.started": "2022-07-04T20:56:00.232680Z"
    },
    "papermill": {
     "duration": 14.579258,
     "end_time": "2022-07-04T21:18:35.466150",
     "exception": false,
     "start_time": "2022-07-04T21:18:20.886892",
     "status": "completed"
    },
    "tags": []
   },
   "outputs": [
    {
     "data": {
      "text/html": [
       "<div>\n",
       "<style scoped>\n",
       "    .dataframe tbody tr th:only-of-type {\n",
       "        vertical-align: middle;\n",
       "    }\n",
       "\n",
       "    .dataframe tbody tr th {\n",
       "        vertical-align: top;\n",
       "    }\n",
       "\n",
       "    .dataframe thead th {\n",
       "        text-align: right;\n",
       "    }\n",
       "</style>\n",
       "<table border=\"1\" class=\"dataframe\">\n",
       "  <thead>\n",
       "    <tr style=\"text-align: right;\">\n",
       "      <th></th>\n",
       "      <th>id</th>\n",
       "      <th>prediction</th>\n",
       "    </tr>\n",
       "  </thead>\n",
       "  <tbody>\n",
       "    <tr>\n",
       "      <th>0</th>\n",
       "      <td>c6d58c3f69</td>\n",
       "      <td>2</td>\n",
       "    </tr>\n",
       "    <tr>\n",
       "      <th>1</th>\n",
       "      <td>cefcc82292</td>\n",
       "      <td>1</td>\n",
       "    </tr>\n",
       "    <tr>\n",
       "      <th>2</th>\n",
       "      <td>e98005252c</td>\n",
       "      <td>0</td>\n",
       "    </tr>\n",
       "    <tr>\n",
       "      <th>3</th>\n",
       "      <td>58518c10ba</td>\n",
       "      <td>1</td>\n",
       "    </tr>\n",
       "    <tr>\n",
       "      <th>4</th>\n",
       "      <td>c32b0d16df</td>\n",
       "      <td>0</td>\n",
       "    </tr>\n",
       "  </tbody>\n",
       "</table>\n",
       "</div>"
      ],
      "text/plain": [
       "           id  prediction\n",
       "0  c6d58c3f69           2\n",
       "1  cefcc82292           1\n",
       "2  e98005252c           0\n",
       "3  58518c10ba           1\n",
       "4  c32b0d16df           0"
      ]
     },
     "execution_count": 17,
     "metadata": {},
     "output_type": "execute_result"
    }
   ],
   "source": [
    "# generating predictions\n",
    "predictions = [np.argmax(i) for i in model.predict(test_encoded)]\n",
    "\n",
    "# convert test data to dataframe\n",
    "submission = test.id.copy().to_frame()\n",
    "\n",
    "# add our predictions\n",
    "submission['prediction'] = predictions\n",
    "\n",
    "# check submission frame\n",
    "submission.head()"
   ]
  },
  {
   "cell_type": "code",
   "execution_count": 18,
   "id": "1f58a76a",
   "metadata": {
    "execution": {
     "iopub.execute_input": "2022-07-04T21:18:35.715373Z",
     "iopub.status.busy": "2022-07-04T21:18:35.714349Z",
     "iopub.status.idle": "2022-07-04T21:18:35.730751Z",
     "shell.execute_reply": "2022-07-04T21:18:35.731268Z",
     "shell.execute_reply.started": "2022-07-04T21:10:22.878849Z"
    },
    "papermill": {
     "duration": 0.143629,
     "end_time": "2022-07-04T21:18:35.731434",
     "exception": false,
     "start_time": "2022-07-04T21:18:35.587805",
     "status": "completed"
    },
    "tags": []
   },
   "outputs": [],
   "source": [
    "# save predictions to csv for kaggle submission\n",
    "submission.to_csv('submission.csv', index = False)"
   ]
  }
 ],
 "metadata": {
  "kernelspec": {
   "display_name": "Python 3",
   "language": "python",
   "name": "python3"
  },
  "language_info": {
   "codemirror_mode": {
    "name": "ipython",
    "version": 3
   },
   "file_extension": ".py",
   "mimetype": "text/x-python",
   "name": "python",
   "nbconvert_exporter": "python",
   "pygments_lexer": "ipython3",
   "version": "3.7.10"
  },
  "papermill": {
   "default_parameters": {},
   "duration": 287.871032,
   "end_time": "2022-07-04T21:18:38.958223",
   "environment_variables": {},
   "exception": null,
   "input_path": "__notebook__.ipynb",
   "output_path": "__notebook__.ipynb",
   "parameters": {},
   "start_time": "2022-07-04T21:13:51.087191",
   "version": "2.3.3"
  },
  "widgets": {
   "application/vnd.jupyter.widget-state+json": {
    "state": {
     "06fa4f92dd3b4161be68b3d93bdf31b1": {
      "model_module": "@jupyter-widgets/base",
      "model_module_version": "1.2.0",
      "model_name": "LayoutModel",
      "state": {
       "_model_module": "@jupyter-widgets/base",
       "_model_module_version": "1.2.0",
       "_model_name": "LayoutModel",
       "_view_count": null,
       "_view_module": "@jupyter-widgets/base",
       "_view_module_version": "1.2.0",
       "_view_name": "LayoutView",
       "align_content": null,
       "align_items": null,
       "align_self": null,
       "border": null,
       "bottom": null,
       "display": null,
       "flex": null,
       "flex_flow": null,
       "grid_area": null,
       "grid_auto_columns": null,
       "grid_auto_flow": null,
       "grid_auto_rows": null,
       "grid_column": null,
       "grid_gap": null,
       "grid_row": null,
       "grid_template_areas": null,
       "grid_template_columns": null,
       "grid_template_rows": null,
       "height": null,
       "justify_content": null,
       "justify_items": null,
       "left": null,
       "margin": null,
       "max_height": null,
       "max_width": null,
       "min_height": null,
       "min_width": null,
       "object_fit": null,
       "object_position": null,
       "order": null,
       "overflow": null,
       "overflow_x": null,
       "overflow_y": null,
       "padding": null,
       "right": null,
       "top": null,
       "visibility": null,
       "width": null
      }
     },
     "084c9fb4a68d408e8b18b278fa31fe1b": {
      "model_module": "@jupyter-widgets/controls",
      "model_module_version": "1.5.0",
      "model_name": "DescriptionStyleModel",
      "state": {
       "_model_module": "@jupyter-widgets/controls",
       "_model_module_version": "1.5.0",
       "_model_name": "DescriptionStyleModel",
       "_view_count": null,
       "_view_module": "@jupyter-widgets/base",
       "_view_module_version": "1.2.0",
       "_view_name": "StyleView",
       "description_width": ""
      }
     },
     "0b5b1c898c8d4b119c921f4de463b5b4": {
      "model_module": "@jupyter-widgets/controls",
      "model_module_version": "1.5.0",
      "model_name": "ProgressStyleModel",
      "state": {
       "_model_module": "@jupyter-widgets/controls",
       "_model_module_version": "1.5.0",
       "_model_name": "ProgressStyleModel",
       "_view_count": null,
       "_view_module": "@jupyter-widgets/base",
       "_view_module_version": "1.2.0",
       "_view_name": "StyleView",
       "bar_color": null,
       "description_width": ""
      }
     },
     "20522df2f2f04840acf6529771be91fd": {
      "model_module": "@jupyter-widgets/base",
      "model_module_version": "1.2.0",
      "model_name": "LayoutModel",
      "state": {
       "_model_module": "@jupyter-widgets/base",
       "_model_module_version": "1.2.0",
       "_model_name": "LayoutModel",
       "_view_count": null,
       "_view_module": "@jupyter-widgets/base",
       "_view_module_version": "1.2.0",
       "_view_name": "LayoutView",
       "align_content": null,
       "align_items": null,
       "align_self": null,
       "border": null,
       "bottom": null,
       "display": null,
       "flex": null,
       "flex_flow": null,
       "grid_area": null,
       "grid_auto_columns": null,
       "grid_auto_flow": null,
       "grid_auto_rows": null,
       "grid_column": null,
       "grid_gap": null,
       "grid_row": null,
       "grid_template_areas": null,
       "grid_template_columns": null,
       "grid_template_rows": null,
       "height": null,
       "justify_content": null,
       "justify_items": null,
       "left": null,
       "margin": null,
       "max_height": null,
       "max_width": null,
       "min_height": null,
       "min_width": null,
       "object_fit": null,
       "object_position": null,
       "order": null,
       "overflow": null,
       "overflow_x": null,
       "overflow_y": null,
       "padding": null,
       "right": null,
       "top": null,
       "visibility": null,
       "width": null
      }
     },
     "2077444c2ea345d0be026b6d8796faaf": {
      "model_module": "@jupyter-widgets/base",
      "model_module_version": "1.2.0",
      "model_name": "LayoutModel",
      "state": {
       "_model_module": "@jupyter-widgets/base",
       "_model_module_version": "1.2.0",
       "_model_name": "LayoutModel",
       "_view_count": null,
       "_view_module": "@jupyter-widgets/base",
       "_view_module_version": "1.2.0",
       "_view_name": "LayoutView",
       "align_content": null,
       "align_items": null,
       "align_self": null,
       "border": null,
       "bottom": null,
       "display": null,
       "flex": null,
       "flex_flow": null,
       "grid_area": null,
       "grid_auto_columns": null,
       "grid_auto_flow": null,
       "grid_auto_rows": null,
       "grid_column": null,
       "grid_gap": null,
       "grid_row": null,
       "grid_template_areas": null,
       "grid_template_columns": null,
       "grid_template_rows": null,
       "height": null,
       "justify_content": null,
       "justify_items": null,
       "left": null,
       "margin": null,
       "max_height": null,
       "max_width": null,
       "min_height": null,
       "min_width": null,
       "object_fit": null,
       "object_position": null,
       "order": null,
       "overflow": null,
       "overflow_x": null,
       "overflow_y": null,
       "padding": null,
       "right": null,
       "top": null,
       "visibility": null,
       "width": null
      }
     },
     "21f8045764584b4c9d49d2f1baabab32": {
      "model_module": "@jupyter-widgets/base",
      "model_module_version": "1.2.0",
      "model_name": "LayoutModel",
      "state": {
       "_model_module": "@jupyter-widgets/base",
       "_model_module_version": "1.2.0",
       "_model_name": "LayoutModel",
       "_view_count": null,
       "_view_module": "@jupyter-widgets/base",
       "_view_module_version": "1.2.0",
       "_view_name": "LayoutView",
       "align_content": null,
       "align_items": null,
       "align_self": null,
       "border": null,
       "bottom": null,
       "display": null,
       "flex": null,
       "flex_flow": null,
       "grid_area": null,
       "grid_auto_columns": null,
       "grid_auto_flow": null,
       "grid_auto_rows": null,
       "grid_column": null,
       "grid_gap": null,
       "grid_row": null,
       "grid_template_areas": null,
       "grid_template_columns": null,
       "grid_template_rows": null,
       "height": null,
       "justify_content": null,
       "justify_items": null,
       "left": null,
       "margin": null,
       "max_height": null,
       "max_width": null,
       "min_height": null,
       "min_width": null,
       "object_fit": null,
       "object_position": null,
       "order": null,
       "overflow": null,
       "overflow_x": null,
       "overflow_y": null,
       "padding": null,
       "right": null,
       "top": null,
       "visibility": null,
       "width": null
      }
     },
     "23d4afadb06444368f7596bb208ae9a2": {
      "model_module": "@jupyter-widgets/controls",
      "model_module_version": "1.5.0",
      "model_name": "HBoxModel",
      "state": {
       "_dom_classes": [],
       "_model_module": "@jupyter-widgets/controls",
       "_model_module_version": "1.5.0",
       "_model_name": "HBoxModel",
       "_view_count": null,
       "_view_module": "@jupyter-widgets/controls",
       "_view_module_version": "1.5.0",
       "_view_name": "HBoxView",
       "box_style": "",
       "children": [
        "IPY_MODEL_c2c024fd06974fbba0de9280f26056a5",
        "IPY_MODEL_b1ab314b97894a0da2b3bce8be6cd721",
        "IPY_MODEL_f1ad3bdf13ec499a83938453078fbae4"
       ],
       "layout": "IPY_MODEL_a264c649e2c94c6180b74e4f14245aa2"
      }
     },
     "26913001095742c09dc860ae77e756db": {
      "model_module": "@jupyter-widgets/base",
      "model_module_version": "1.2.0",
      "model_name": "LayoutModel",
      "state": {
       "_model_module": "@jupyter-widgets/base",
       "_model_module_version": "1.2.0",
       "_model_name": "LayoutModel",
       "_view_count": null,
       "_view_module": "@jupyter-widgets/base",
       "_view_module_version": "1.2.0",
       "_view_name": "LayoutView",
       "align_content": null,
       "align_items": null,
       "align_self": null,
       "border": null,
       "bottom": null,
       "display": null,
       "flex": null,
       "flex_flow": null,
       "grid_area": null,
       "grid_auto_columns": null,
       "grid_auto_flow": null,
       "grid_auto_rows": null,
       "grid_column": null,
       "grid_gap": null,
       "grid_row": null,
       "grid_template_areas": null,
       "grid_template_columns": null,
       "grid_template_rows": null,
       "height": null,
       "justify_content": null,
       "justify_items": null,
       "left": null,
       "margin": null,
       "max_height": null,
       "max_width": null,
       "min_height": null,
       "min_width": null,
       "object_fit": null,
       "object_position": null,
       "order": null,
       "overflow": null,
       "overflow_x": null,
       "overflow_y": null,
       "padding": null,
       "right": null,
       "top": null,
       "visibility": null,
       "width": null
      }
     },
     "2ec22b122eea436b9e88da9a339c996e": {
      "model_module": "@jupyter-widgets/base",
      "model_module_version": "1.2.0",
      "model_name": "LayoutModel",
      "state": {
       "_model_module": "@jupyter-widgets/base",
       "_model_module_version": "1.2.0",
       "_model_name": "LayoutModel",
       "_view_count": null,
       "_view_module": "@jupyter-widgets/base",
       "_view_module_version": "1.2.0",
       "_view_name": "LayoutView",
       "align_content": null,
       "align_items": null,
       "align_self": null,
       "border": null,
       "bottom": null,
       "display": null,
       "flex": null,
       "flex_flow": null,
       "grid_area": null,
       "grid_auto_columns": null,
       "grid_auto_flow": null,
       "grid_auto_rows": null,
       "grid_column": null,
       "grid_gap": null,
       "grid_row": null,
       "grid_template_areas": null,
       "grid_template_columns": null,
       "grid_template_rows": null,
       "height": null,
       "justify_content": null,
       "justify_items": null,
       "left": null,
       "margin": null,
       "max_height": null,
       "max_width": null,
       "min_height": null,
       "min_width": null,
       "object_fit": null,
       "object_position": null,
       "order": null,
       "overflow": null,
       "overflow_x": null,
       "overflow_y": null,
       "padding": null,
       "right": null,
       "top": null,
       "visibility": null,
       "width": null
      }
     },
     "3678ecf07b444a3c8265e10c861f4acb": {
      "model_module": "@jupyter-widgets/base",
      "model_module_version": "1.2.0",
      "model_name": "LayoutModel",
      "state": {
       "_model_module": "@jupyter-widgets/base",
       "_model_module_version": "1.2.0",
       "_model_name": "LayoutModel",
       "_view_count": null,
       "_view_module": "@jupyter-widgets/base",
       "_view_module_version": "1.2.0",
       "_view_name": "LayoutView",
       "align_content": null,
       "align_items": null,
       "align_self": null,
       "border": null,
       "bottom": null,
       "display": null,
       "flex": null,
       "flex_flow": null,
       "grid_area": null,
       "grid_auto_columns": null,
       "grid_auto_flow": null,
       "grid_auto_rows": null,
       "grid_column": null,
       "grid_gap": null,
       "grid_row": null,
       "grid_template_areas": null,
       "grid_template_columns": null,
       "grid_template_rows": null,
       "height": null,
       "justify_content": null,
       "justify_items": null,
       "left": null,
       "margin": null,
       "max_height": null,
       "max_width": null,
       "min_height": null,
       "min_width": null,
       "object_fit": null,
       "object_position": null,
       "order": null,
       "overflow": null,
       "overflow_x": null,
       "overflow_y": null,
       "padding": null,
       "right": null,
       "top": null,
       "visibility": null,
       "width": null
      }
     },
     "3a4d9b2f55984ce7b460dcd9f235f4f1": {
      "model_module": "@jupyter-widgets/controls",
      "model_module_version": "1.5.0",
      "model_name": "DescriptionStyleModel",
      "state": {
       "_model_module": "@jupyter-widgets/controls",
       "_model_module_version": "1.5.0",
       "_model_name": "DescriptionStyleModel",
       "_view_count": null,
       "_view_module": "@jupyter-widgets/base",
       "_view_module_version": "1.2.0",
       "_view_name": "StyleView",
       "description_width": ""
      }
     },
     "3b4b5507b3b84a98b3d7411a1a571588": {
      "model_module": "@jupyter-widgets/controls",
      "model_module_version": "1.5.0",
      "model_name": "DescriptionStyleModel",
      "state": {
       "_model_module": "@jupyter-widgets/controls",
       "_model_module_version": "1.5.0",
       "_model_name": "DescriptionStyleModel",
       "_view_count": null,
       "_view_module": "@jupyter-widgets/base",
       "_view_module_version": "1.2.0",
       "_view_name": "StyleView",
       "description_width": ""
      }
     },
     "3d175e469ccc4232a76321758ae77af4": {
      "model_module": "@jupyter-widgets/base",
      "model_module_version": "1.2.0",
      "model_name": "LayoutModel",
      "state": {
       "_model_module": "@jupyter-widgets/base",
       "_model_module_version": "1.2.0",
       "_model_name": "LayoutModel",
       "_view_count": null,
       "_view_module": "@jupyter-widgets/base",
       "_view_module_version": "1.2.0",
       "_view_name": "LayoutView",
       "align_content": null,
       "align_items": null,
       "align_self": null,
       "border": null,
       "bottom": null,
       "display": null,
       "flex": null,
       "flex_flow": null,
       "grid_area": null,
       "grid_auto_columns": null,
       "grid_auto_flow": null,
       "grid_auto_rows": null,
       "grid_column": null,
       "grid_gap": null,
       "grid_row": null,
       "grid_template_areas": null,
       "grid_template_columns": null,
       "grid_template_rows": null,
       "height": null,
       "justify_content": null,
       "justify_items": null,
       "left": null,
       "margin": null,
       "max_height": null,
       "max_width": null,
       "min_height": null,
       "min_width": null,
       "object_fit": null,
       "object_position": null,
       "order": null,
       "overflow": null,
       "overflow_x": null,
       "overflow_y": null,
       "padding": null,
       "right": null,
       "top": null,
       "visibility": null,
       "width": null
      }
     },
     "3fbd049d9ffe4a218c895caa5c6352fc": {
      "model_module": "@jupyter-widgets/controls",
      "model_module_version": "1.5.0",
      "model_name": "DescriptionStyleModel",
      "state": {
       "_model_module": "@jupyter-widgets/controls",
       "_model_module_version": "1.5.0",
       "_model_name": "DescriptionStyleModel",
       "_view_count": null,
       "_view_module": "@jupyter-widgets/base",
       "_view_module_version": "1.2.0",
       "_view_name": "StyleView",
       "description_width": ""
      }
     },
     "49205155567c4342b35d1e22b70e4e4b": {
      "model_module": "@jupyter-widgets/controls",
      "model_module_version": "1.5.0",
      "model_name": "HTMLModel",
      "state": {
       "_dom_classes": [],
       "_model_module": "@jupyter-widgets/controls",
       "_model_module_version": "1.5.0",
       "_model_name": "HTMLModel",
       "_view_count": null,
       "_view_module": "@jupyter-widgets/controls",
       "_view_module_version": "1.5.0",
       "_view_name": "HTMLView",
       "description": "",
       "description_tooltip": null,
       "layout": "IPY_MODEL_3678ecf07b444a3c8265e10c861f4acb",
       "placeholder": "​",
       "style": "IPY_MODEL_3a4d9b2f55984ce7b460dcd9f235f4f1",
       "value": " 1.96M/1.96M [00:00&lt;00:00, 8.16MB/s]"
      }
     },
     "507f7da444654426ac39660c1cdafaa4": {
      "model_module": "@jupyter-widgets/controls",
      "model_module_version": "1.5.0",
      "model_name": "FloatProgressModel",
      "state": {
       "_dom_classes": [],
       "_model_module": "@jupyter-widgets/controls",
       "_model_module_version": "1.5.0",
       "_model_name": "FloatProgressModel",
       "_view_count": null,
       "_view_module": "@jupyter-widgets/controls",
       "_view_module_version": "1.5.0",
       "_view_name": "ProgressView",
       "bar_style": "success",
       "description": "",
       "description_tooltip": null,
       "layout": "IPY_MODEL_e2936debc4dd464ea7018dfc6044d442",
       "max": 29.0,
       "min": 0.0,
       "orientation": "horizontal",
       "style": "IPY_MODEL_55d94900e22a4c3597e3a1c27cea4f30",
       "value": 29.0
      }
     },
     "52f3baaab45d4ac4b0fbf1f407162993": {
      "model_module": "@jupyter-widgets/base",
      "model_module_version": "1.2.0",
      "model_name": "LayoutModel",
      "state": {
       "_model_module": "@jupyter-widgets/base",
       "_model_module_version": "1.2.0",
       "_model_name": "LayoutModel",
       "_view_count": null,
       "_view_module": "@jupyter-widgets/base",
       "_view_module_version": "1.2.0",
       "_view_name": "LayoutView",
       "align_content": null,
       "align_items": null,
       "align_self": null,
       "border": null,
       "bottom": null,
       "display": null,
       "flex": null,
       "flex_flow": null,
       "grid_area": null,
       "grid_auto_columns": null,
       "grid_auto_flow": null,
       "grid_auto_rows": null,
       "grid_column": null,
       "grid_gap": null,
       "grid_row": null,
       "grid_template_areas": null,
       "grid_template_columns": null,
       "grid_template_rows": null,
       "height": null,
       "justify_content": null,
       "justify_items": null,
       "left": null,
       "margin": null,
       "max_height": null,
       "max_width": null,
       "min_height": null,
       "min_width": null,
       "object_fit": null,
       "object_position": null,
       "order": null,
       "overflow": null,
       "overflow_x": null,
       "overflow_y": null,
       "padding": null,
       "right": null,
       "top": null,
       "visibility": null,
       "width": null
      }
     },
     "55d94900e22a4c3597e3a1c27cea4f30": {
      "model_module": "@jupyter-widgets/controls",
      "model_module_version": "1.5.0",
      "model_name": "ProgressStyleModel",
      "state": {
       "_model_module": "@jupyter-widgets/controls",
       "_model_module_version": "1.5.0",
       "_model_name": "ProgressStyleModel",
       "_view_count": null,
       "_view_module": "@jupyter-widgets/base",
       "_view_module_version": "1.2.0",
       "_view_name": "StyleView",
       "bar_color": null,
       "description_width": ""
      }
     },
     "5be4b39809b541d49f6b37842cf4ad23": {
      "model_module": "@jupyter-widgets/controls",
      "model_module_version": "1.5.0",
      "model_name": "DescriptionStyleModel",
      "state": {
       "_model_module": "@jupyter-widgets/controls",
       "_model_module_version": "1.5.0",
       "_model_name": "DescriptionStyleModel",
       "_view_count": null,
       "_view_module": "@jupyter-widgets/base",
       "_view_module_version": "1.2.0",
       "_view_name": "StyleView",
       "description_width": ""
      }
     },
     "6539afbec7744ef7b0448986c77afb7a": {
      "model_module": "@jupyter-widgets/base",
      "model_module_version": "1.2.0",
      "model_name": "LayoutModel",
      "state": {
       "_model_module": "@jupyter-widgets/base",
       "_model_module_version": "1.2.0",
       "_model_name": "LayoutModel",
       "_view_count": null,
       "_view_module": "@jupyter-widgets/base",
       "_view_module_version": "1.2.0",
       "_view_name": "LayoutView",
       "align_content": null,
       "align_items": null,
       "align_self": null,
       "border": null,
       "bottom": null,
       "display": null,
       "flex": null,
       "flex_flow": null,
       "grid_area": null,
       "grid_auto_columns": null,
       "grid_auto_flow": null,
       "grid_auto_rows": null,
       "grid_column": null,
       "grid_gap": null,
       "grid_row": null,
       "grid_template_areas": null,
       "grid_template_columns": null,
       "grid_template_rows": null,
       "height": null,
       "justify_content": null,
       "justify_items": null,
       "left": null,
       "margin": null,
       "max_height": null,
       "max_width": null,
       "min_height": null,
       "min_width": null,
       "object_fit": null,
       "object_position": null,
       "order": null,
       "overflow": null,
       "overflow_x": null,
       "overflow_y": null,
       "padding": null,
       "right": null,
       "top": null,
       "visibility": null,
       "width": null
      }
     },
     "6589bd414b6e45678bad19ba4f074e4e": {
      "model_module": "@jupyter-widgets/controls",
      "model_module_version": "1.5.0",
      "model_name": "HBoxModel",
      "state": {
       "_dom_classes": [],
       "_model_module": "@jupyter-widgets/controls",
       "_model_module_version": "1.5.0",
       "_model_name": "HBoxModel",
       "_view_count": null,
       "_view_module": "@jupyter-widgets/controls",
       "_view_module_version": "1.5.0",
       "_view_name": "HBoxView",
       "box_style": "",
       "children": [
        "IPY_MODEL_eea2e5aed65a44218f5a77be93400a84",
        "IPY_MODEL_bc1abc6772a24d7d8ab45b985544470d",
        "IPY_MODEL_bd208efd097b4fdc8fea230abba0681a"
       ],
       "layout": "IPY_MODEL_92129ab23fae451eba649195d46c5287"
      }
     },
     "6c902365d7aa4e4a8b3024d9cf750d41": {
      "model_module": "@jupyter-widgets/controls",
      "model_module_version": "1.5.0",
      "model_name": "HTMLModel",
      "state": {
       "_dom_classes": [],
       "_model_module": "@jupyter-widgets/controls",
       "_model_module_version": "1.5.0",
       "_model_name": "HTMLModel",
       "_view_count": null,
       "_view_module": "@jupyter-widgets/controls",
       "_view_module_version": "1.5.0",
       "_view_name": "HTMLView",
       "description": "",
       "description_tooltip": null,
       "layout": "IPY_MODEL_52f3baaab45d4ac4b0fbf1f407162993",
       "placeholder": "​",
       "style": "IPY_MODEL_ff97d853801846228c821b24c1504424",
       "value": " 29.0/29.0 [00:00&lt;00:00, 1.02kB/s]"
      }
     },
     "73e4cac73b2a40f1bbc8e1c9452ad777": {
      "model_module": "@jupyter-widgets/controls",
      "model_module_version": "1.5.0",
      "model_name": "HBoxModel",
      "state": {
       "_dom_classes": [],
       "_model_module": "@jupyter-widgets/controls",
       "_model_module_version": "1.5.0",
       "_model_name": "HBoxModel",
       "_view_count": null,
       "_view_module": "@jupyter-widgets/controls",
       "_view_module_version": "1.5.0",
       "_view_name": "HBoxView",
       "box_style": "",
       "children": [
        "IPY_MODEL_eacd45d1238e415189366a245c6da8e7",
        "IPY_MODEL_e25c118a1635462391977917b2b3c456",
        "IPY_MODEL_49205155567c4342b35d1e22b70e4e4b"
       ],
       "layout": "IPY_MODEL_21f8045764584b4c9d49d2f1baabab32"
      }
     },
     "7cf749b1393e42828062a7a5783a9241": {
      "model_module": "@jupyter-widgets/controls",
      "model_module_version": "1.5.0",
      "model_name": "HTMLModel",
      "state": {
       "_dom_classes": [],
       "_model_module": "@jupyter-widgets/controls",
       "_model_module_version": "1.5.0",
       "_model_name": "HTMLModel",
       "_view_count": null,
       "_view_module": "@jupyter-widgets/controls",
       "_view_module_version": "1.5.0",
       "_view_name": "HTMLView",
       "description": "",
       "description_tooltip": null,
       "layout": "IPY_MODEL_7e8da3fb47ad45679d787770155b2015",
       "placeholder": "​",
       "style": "IPY_MODEL_94dd45b1d7954ea58c7f7f24d6d91996",
       "value": " 1.08G/1.08G [00:37&lt;00:00, 29.6MB/s]"
      }
     },
     "7e8da3fb47ad45679d787770155b2015": {
      "model_module": "@jupyter-widgets/base",
      "model_module_version": "1.2.0",
      "model_name": "LayoutModel",
      "state": {
       "_model_module": "@jupyter-widgets/base",
       "_model_module_version": "1.2.0",
       "_model_name": "LayoutModel",
       "_view_count": null,
       "_view_module": "@jupyter-widgets/base",
       "_view_module_version": "1.2.0",
       "_view_name": "LayoutView",
       "align_content": null,
       "align_items": null,
       "align_self": null,
       "border": null,
       "bottom": null,
       "display": null,
       "flex": null,
       "flex_flow": null,
       "grid_area": null,
       "grid_auto_columns": null,
       "grid_auto_flow": null,
       "grid_auto_rows": null,
       "grid_column": null,
       "grid_gap": null,
       "grid_row": null,
       "grid_template_areas": null,
       "grid_template_columns": null,
       "grid_template_rows": null,
       "height": null,
       "justify_content": null,
       "justify_items": null,
       "left": null,
       "margin": null,
       "max_height": null,
       "max_width": null,
       "min_height": null,
       "min_width": null,
       "object_fit": null,
       "object_position": null,
       "order": null,
       "overflow": null,
       "overflow_x": null,
       "overflow_y": null,
       "padding": null,
       "right": null,
       "top": null,
       "visibility": null,
       "width": null
      }
     },
     "81cf2bcfbc4a4d6fb90b313fc813f227": {
      "model_module": "@jupyter-widgets/base",
      "model_module_version": "1.2.0",
      "model_name": "LayoutModel",
      "state": {
       "_model_module": "@jupyter-widgets/base",
       "_model_module_version": "1.2.0",
       "_model_name": "LayoutModel",
       "_view_count": null,
       "_view_module": "@jupyter-widgets/base",
       "_view_module_version": "1.2.0",
       "_view_name": "LayoutView",
       "align_content": null,
       "align_items": null,
       "align_self": null,
       "border": null,
       "bottom": null,
       "display": null,
       "flex": null,
       "flex_flow": null,
       "grid_area": null,
       "grid_auto_columns": null,
       "grid_auto_flow": null,
       "grid_auto_rows": null,
       "grid_column": null,
       "grid_gap": null,
       "grid_row": null,
       "grid_template_areas": null,
       "grid_template_columns": null,
       "grid_template_rows": null,
       "height": null,
       "justify_content": null,
       "justify_items": null,
       "left": null,
       "margin": null,
       "max_height": null,
       "max_width": null,
       "min_height": null,
       "min_width": null,
       "object_fit": null,
       "object_position": null,
       "order": null,
       "overflow": null,
       "overflow_x": null,
       "overflow_y": null,
       "padding": null,
       "right": null,
       "top": null,
       "visibility": null,
       "width": null
      }
     },
     "8247a133cc40410eb7d5a9ce4f4f0b09": {
      "model_module": "@jupyter-widgets/base",
      "model_module_version": "1.2.0",
      "model_name": "LayoutModel",
      "state": {
       "_model_module": "@jupyter-widgets/base",
       "_model_module_version": "1.2.0",
       "_model_name": "LayoutModel",
       "_view_count": null,
       "_view_module": "@jupyter-widgets/base",
       "_view_module_version": "1.2.0",
       "_view_name": "LayoutView",
       "align_content": null,
       "align_items": null,
       "align_self": null,
       "border": null,
       "bottom": null,
       "display": null,
       "flex": null,
       "flex_flow": null,
       "grid_area": null,
       "grid_auto_columns": null,
       "grid_auto_flow": null,
       "grid_auto_rows": null,
       "grid_column": null,
       "grid_gap": null,
       "grid_row": null,
       "grid_template_areas": null,
       "grid_template_columns": null,
       "grid_template_rows": null,
       "height": null,
       "justify_content": null,
       "justify_items": null,
       "left": null,
       "margin": null,
       "max_height": null,
       "max_width": null,
       "min_height": null,
       "min_width": null,
       "object_fit": null,
       "object_position": null,
       "order": null,
       "overflow": null,
       "overflow_x": null,
       "overflow_y": null,
       "padding": null,
       "right": null,
       "top": null,
       "visibility": null,
       "width": null
      }
     },
     "836f3c21f4f7486a8ebf08d5fcd53b2f": {
      "model_module": "@jupyter-widgets/base",
      "model_module_version": "1.2.0",
      "model_name": "LayoutModel",
      "state": {
       "_model_module": "@jupyter-widgets/base",
       "_model_module_version": "1.2.0",
       "_model_name": "LayoutModel",
       "_view_count": null,
       "_view_module": "@jupyter-widgets/base",
       "_view_module_version": "1.2.0",
       "_view_name": "LayoutView",
       "align_content": null,
       "align_items": null,
       "align_self": null,
       "border": null,
       "bottom": null,
       "display": null,
       "flex": null,
       "flex_flow": null,
       "grid_area": null,
       "grid_auto_columns": null,
       "grid_auto_flow": null,
       "grid_auto_rows": null,
       "grid_column": null,
       "grid_gap": null,
       "grid_row": null,
       "grid_template_areas": null,
       "grid_template_columns": null,
       "grid_template_rows": null,
       "height": null,
       "justify_content": null,
       "justify_items": null,
       "left": null,
       "margin": null,
       "max_height": null,
       "max_width": null,
       "min_height": null,
       "min_width": null,
       "object_fit": null,
       "object_position": null,
       "order": null,
       "overflow": null,
       "overflow_x": null,
       "overflow_y": null,
       "padding": null,
       "right": null,
       "top": null,
       "visibility": null,
       "width": null
      }
     },
     "9200a04bead146aab81d7b0b70b792f1": {
      "model_module": "@jupyter-widgets/controls",
      "model_module_version": "1.5.0",
      "model_name": "DescriptionStyleModel",
      "state": {
       "_model_module": "@jupyter-widgets/controls",
       "_model_module_version": "1.5.0",
       "_model_name": "DescriptionStyleModel",
       "_view_count": null,
       "_view_module": "@jupyter-widgets/base",
       "_view_module_version": "1.2.0",
       "_view_name": "StyleView",
       "description_width": ""
      }
     },
     "92129ab23fae451eba649195d46c5287": {
      "model_module": "@jupyter-widgets/base",
      "model_module_version": "1.2.0",
      "model_name": "LayoutModel",
      "state": {
       "_model_module": "@jupyter-widgets/base",
       "_model_module_version": "1.2.0",
       "_model_name": "LayoutModel",
       "_view_count": null,
       "_view_module": "@jupyter-widgets/base",
       "_view_module_version": "1.2.0",
       "_view_name": "LayoutView",
       "align_content": null,
       "align_items": null,
       "align_self": null,
       "border": null,
       "bottom": null,
       "display": null,
       "flex": null,
       "flex_flow": null,
       "grid_area": null,
       "grid_auto_columns": null,
       "grid_auto_flow": null,
       "grid_auto_rows": null,
       "grid_column": null,
       "grid_gap": null,
       "grid_row": null,
       "grid_template_areas": null,
       "grid_template_columns": null,
       "grid_template_rows": null,
       "height": null,
       "justify_content": null,
       "justify_items": null,
       "left": null,
       "margin": null,
       "max_height": null,
       "max_width": null,
       "min_height": null,
       "min_width": null,
       "object_fit": null,
       "object_position": null,
       "order": null,
       "overflow": null,
       "overflow_x": null,
       "overflow_y": null,
       "padding": null,
       "right": null,
       "top": null,
       "visibility": null,
       "width": null
      }
     },
     "94dd45b1d7954ea58c7f7f24d6d91996": {
      "model_module": "@jupyter-widgets/controls",
      "model_module_version": "1.5.0",
      "model_name": "DescriptionStyleModel",
      "state": {
       "_model_module": "@jupyter-widgets/controls",
       "_model_module_version": "1.5.0",
       "_model_name": "DescriptionStyleModel",
       "_view_count": null,
       "_view_module": "@jupyter-widgets/base",
       "_view_module_version": "1.2.0",
       "_view_name": "StyleView",
       "description_width": ""
      }
     },
     "9811d582b47f4e37a0482617d501fa65": {
      "model_module": "@jupyter-widgets/base",
      "model_module_version": "1.2.0",
      "model_name": "LayoutModel",
      "state": {
       "_model_module": "@jupyter-widgets/base",
       "_model_module_version": "1.2.0",
       "_model_name": "LayoutModel",
       "_view_count": null,
       "_view_module": "@jupyter-widgets/base",
       "_view_module_version": "1.2.0",
       "_view_name": "LayoutView",
       "align_content": null,
       "align_items": null,
       "align_self": null,
       "border": null,
       "bottom": null,
       "display": null,
       "flex": null,
       "flex_flow": null,
       "grid_area": null,
       "grid_auto_columns": null,
       "grid_auto_flow": null,
       "grid_auto_rows": null,
       "grid_column": null,
       "grid_gap": null,
       "grid_row": null,
       "grid_template_areas": null,
       "grid_template_columns": null,
       "grid_template_rows": null,
       "height": null,
       "justify_content": null,
       "justify_items": null,
       "left": null,
       "margin": null,
       "max_height": null,
       "max_width": null,
       "min_height": null,
       "min_width": null,
       "object_fit": null,
       "object_position": null,
       "order": null,
       "overflow": null,
       "overflow_x": null,
       "overflow_y": null,
       "padding": null,
       "right": null,
       "top": null,
       "visibility": null,
       "width": null
      }
     },
     "9c158576e2fc4d46973e676a4694ba7c": {
      "model_module": "@jupyter-widgets/controls",
      "model_module_version": "1.5.0",
      "model_name": "DescriptionStyleModel",
      "state": {
       "_model_module": "@jupyter-widgets/controls",
       "_model_module_version": "1.5.0",
       "_model_name": "DescriptionStyleModel",
       "_view_count": null,
       "_view_module": "@jupyter-widgets/base",
       "_view_module_version": "1.2.0",
       "_view_name": "StyleView",
       "description_width": ""
      }
     },
     "a264c649e2c94c6180b74e4f14245aa2": {
      "model_module": "@jupyter-widgets/base",
      "model_module_version": "1.2.0",
      "model_name": "LayoutModel",
      "state": {
       "_model_module": "@jupyter-widgets/base",
       "_model_module_version": "1.2.0",
       "_model_name": "LayoutModel",
       "_view_count": null,
       "_view_module": "@jupyter-widgets/base",
       "_view_module_version": "1.2.0",
       "_view_name": "LayoutView",
       "align_content": null,
       "align_items": null,
       "align_self": null,
       "border": null,
       "bottom": null,
       "display": null,
       "flex": null,
       "flex_flow": null,
       "grid_area": null,
       "grid_auto_columns": null,
       "grid_auto_flow": null,
       "grid_auto_rows": null,
       "grid_column": null,
       "grid_gap": null,
       "grid_row": null,
       "grid_template_areas": null,
       "grid_template_columns": null,
       "grid_template_rows": null,
       "height": null,
       "justify_content": null,
       "justify_items": null,
       "left": null,
       "margin": null,
       "max_height": null,
       "max_width": null,
       "min_height": null,
       "min_width": null,
       "object_fit": null,
       "object_position": null,
       "order": null,
       "overflow": null,
       "overflow_x": null,
       "overflow_y": null,
       "padding": null,
       "right": null,
       "top": null,
       "visibility": null,
       "width": null
      }
     },
     "a9fd830446fd4767b49e7c493bc49462": {
      "model_module": "@jupyter-widgets/controls",
      "model_module_version": "1.5.0",
      "model_name": "DescriptionStyleModel",
      "state": {
       "_model_module": "@jupyter-widgets/controls",
       "_model_module_version": "1.5.0",
       "_model_name": "DescriptionStyleModel",
       "_view_count": null,
       "_view_module": "@jupyter-widgets/base",
       "_view_module_version": "1.2.0",
       "_view_name": "StyleView",
       "description_width": ""
      }
     },
     "aa7babb923df47b49a1a520d3a23bf98": {
      "model_module": "@jupyter-widgets/controls",
      "model_module_version": "1.5.0",
      "model_name": "HTMLModel",
      "state": {
       "_dom_classes": [],
       "_model_module": "@jupyter-widgets/controls",
       "_model_module_version": "1.5.0",
       "_model_name": "HTMLModel",
       "_view_count": null,
       "_view_module": "@jupyter-widgets/controls",
       "_view_module_version": "1.5.0",
       "_view_name": "HTMLView",
       "description": "",
       "description_tooltip": null,
       "layout": "IPY_MODEL_81cf2bcfbc4a4d6fb90b313fc813f227",
       "placeholder": "​",
       "style": "IPY_MODEL_5be4b39809b541d49f6b37842cf4ad23",
       "value": "Downloading: 100%"
      }
     },
     "af97823dabb348dc94ed1de45c675137": {
      "model_module": "@jupyter-widgets/controls",
      "model_module_version": "1.5.0",
      "model_name": "HBoxModel",
      "state": {
       "_dom_classes": [],
       "_model_module": "@jupyter-widgets/controls",
       "_model_module_version": "1.5.0",
       "_model_name": "HBoxModel",
       "_view_count": null,
       "_view_module": "@jupyter-widgets/controls",
       "_view_module_version": "1.5.0",
       "_view_name": "HBoxView",
       "box_style": "",
       "children": [
        "IPY_MODEL_aa7babb923df47b49a1a520d3a23bf98",
        "IPY_MODEL_507f7da444654426ac39660c1cdafaa4",
        "IPY_MODEL_6c902365d7aa4e4a8b3024d9cf750d41"
       ],
       "layout": "IPY_MODEL_836f3c21f4f7486a8ebf08d5fcd53b2f"
      }
     },
     "afd2f55a0ade4a888c1f531eefa4aadf": {
      "model_module": "@jupyter-widgets/controls",
      "model_module_version": "1.5.0",
      "model_name": "ProgressStyleModel",
      "state": {
       "_model_module": "@jupyter-widgets/controls",
       "_model_module_version": "1.5.0",
       "_model_name": "ProgressStyleModel",
       "_view_count": null,
       "_view_module": "@jupyter-widgets/base",
       "_view_module_version": "1.2.0",
       "_view_name": "StyleView",
       "bar_color": null,
       "description_width": ""
      }
     },
     "b1ab314b97894a0da2b3bce8be6cd721": {
      "model_module": "@jupyter-widgets/controls",
      "model_module_version": "1.5.0",
      "model_name": "FloatProgressModel",
      "state": {
       "_dom_classes": [],
       "_model_module": "@jupyter-widgets/controls",
       "_model_module_version": "1.5.0",
       "_model_name": "FloatProgressModel",
       "_view_count": null,
       "_view_module": "@jupyter-widgets/controls",
       "_view_module_version": "1.5.0",
       "_view_name": "ProgressView",
       "bar_style": "success",
       "description": "",
       "description_tooltip": null,
       "layout": "IPY_MODEL_3d175e469ccc4232a76321758ae77af4",
       "max": 995526.0,
       "min": 0.0,
       "orientation": "horizontal",
       "style": "IPY_MODEL_afd2f55a0ade4a888c1f531eefa4aadf",
       "value": 995526.0
      }
     },
     "b49a9840b3444d08a8357dcf6598cc9c": {
      "model_module": "@jupyter-widgets/base",
      "model_module_version": "1.2.0",
      "model_name": "LayoutModel",
      "state": {
       "_model_module": "@jupyter-widgets/base",
       "_model_module_version": "1.2.0",
       "_model_name": "LayoutModel",
       "_view_count": null,
       "_view_module": "@jupyter-widgets/base",
       "_view_module_version": "1.2.0",
       "_view_name": "LayoutView",
       "align_content": null,
       "align_items": null,
       "align_self": null,
       "border": null,
       "bottom": null,
       "display": null,
       "flex": null,
       "flex_flow": null,
       "grid_area": null,
       "grid_auto_columns": null,
       "grid_auto_flow": null,
       "grid_auto_rows": null,
       "grid_column": null,
       "grid_gap": null,
       "grid_row": null,
       "grid_template_areas": null,
       "grid_template_columns": null,
       "grid_template_rows": null,
       "height": null,
       "justify_content": null,
       "justify_items": null,
       "left": null,
       "margin": null,
       "max_height": null,
       "max_width": null,
       "min_height": null,
       "min_width": null,
       "object_fit": null,
       "object_position": null,
       "order": null,
       "overflow": null,
       "overflow_x": null,
       "overflow_y": null,
       "padding": null,
       "right": null,
       "top": null,
       "visibility": null,
       "width": null
      }
     },
     "bc1abc6772a24d7d8ab45b985544470d": {
      "model_module": "@jupyter-widgets/controls",
      "model_module_version": "1.5.0",
      "model_name": "FloatProgressModel",
      "state": {
       "_dom_classes": [],
       "_model_module": "@jupyter-widgets/controls",
       "_model_module_version": "1.5.0",
       "_model_name": "FloatProgressModel",
       "_view_count": null,
       "_view_module": "@jupyter-widgets/controls",
       "_view_module_version": "1.5.0",
       "_view_name": "ProgressView",
       "bar_style": "success",
       "description": "",
       "description_tooltip": null,
       "layout": "IPY_MODEL_b49a9840b3444d08a8357dcf6598cc9c",
       "max": 625.0,
       "min": 0.0,
       "orientation": "horizontal",
       "style": "IPY_MODEL_0b5b1c898c8d4b119c921f4de463b5b4",
       "value": 625.0
      }
     },
     "bd208efd097b4fdc8fea230abba0681a": {
      "model_module": "@jupyter-widgets/controls",
      "model_module_version": "1.5.0",
      "model_name": "HTMLModel",
      "state": {
       "_dom_classes": [],
       "_model_module": "@jupyter-widgets/controls",
       "_model_module_version": "1.5.0",
       "_model_name": "HTMLModel",
       "_view_count": null,
       "_view_module": "@jupyter-widgets/controls",
       "_view_module_version": "1.5.0",
       "_view_name": "HTMLView",
       "description": "",
       "description_tooltip": null,
       "layout": "IPY_MODEL_dfbd8897c42d42f59e9824f14836b32a",
       "placeholder": "​",
       "style": "IPY_MODEL_9c158576e2fc4d46973e676a4694ba7c",
       "value": " 625/625 [00:00&lt;00:00, 20.6kB/s]"
      }
     },
     "c2c024fd06974fbba0de9280f26056a5": {
      "model_module": "@jupyter-widgets/controls",
      "model_module_version": "1.5.0",
      "model_name": "HTMLModel",
      "state": {
       "_dom_classes": [],
       "_model_module": "@jupyter-widgets/controls",
       "_model_module_version": "1.5.0",
       "_model_name": "HTMLModel",
       "_view_count": null,
       "_view_module": "@jupyter-widgets/controls",
       "_view_module_version": "1.5.0",
       "_view_name": "HTMLView",
       "description": "",
       "description_tooltip": null,
       "layout": "IPY_MODEL_26913001095742c09dc860ae77e756db",
       "placeholder": "​",
       "style": "IPY_MODEL_a9fd830446fd4767b49e7c493bc49462",
       "value": "Downloading: 100%"
      }
     },
     "c42250cae8eb46ff8eda156a29a617a5": {
      "model_module": "@jupyter-widgets/controls",
      "model_module_version": "1.5.0",
      "model_name": "ProgressStyleModel",
      "state": {
       "_model_module": "@jupyter-widgets/controls",
       "_model_module_version": "1.5.0",
       "_model_name": "ProgressStyleModel",
       "_view_count": null,
       "_view_module": "@jupyter-widgets/base",
       "_view_module_version": "1.2.0",
       "_view_name": "StyleView",
       "bar_color": null,
       "description_width": ""
      }
     },
     "d4ed6b0240a54485919f5db6f2bb5d67": {
      "model_module": "@jupyter-widgets/controls",
      "model_module_version": "1.5.0",
      "model_name": "HTMLModel",
      "state": {
       "_dom_classes": [],
       "_model_module": "@jupyter-widgets/controls",
       "_model_module_version": "1.5.0",
       "_model_name": "HTMLModel",
       "_view_count": null,
       "_view_module": "@jupyter-widgets/controls",
       "_view_module_version": "1.5.0",
       "_view_name": "HTMLView",
       "description": "",
       "description_tooltip": null,
       "layout": "IPY_MODEL_2077444c2ea345d0be026b6d8796faaf",
       "placeholder": "​",
       "style": "IPY_MODEL_9200a04bead146aab81d7b0b70b792f1",
       "value": "Downloading: 100%"
      }
     },
     "dfbd8897c42d42f59e9824f14836b32a": {
      "model_module": "@jupyter-widgets/base",
      "model_module_version": "1.2.0",
      "model_name": "LayoutModel",
      "state": {
       "_model_module": "@jupyter-widgets/base",
       "_model_module_version": "1.2.0",
       "_model_name": "LayoutModel",
       "_view_count": null,
       "_view_module": "@jupyter-widgets/base",
       "_view_module_version": "1.2.0",
       "_view_name": "LayoutView",
       "align_content": null,
       "align_items": null,
       "align_self": null,
       "border": null,
       "bottom": null,
       "display": null,
       "flex": null,
       "flex_flow": null,
       "grid_area": null,
       "grid_auto_columns": null,
       "grid_auto_flow": null,
       "grid_auto_rows": null,
       "grid_column": null,
       "grid_gap": null,
       "grid_row": null,
       "grid_template_areas": null,
       "grid_template_columns": null,
       "grid_template_rows": null,
       "height": null,
       "justify_content": null,
       "justify_items": null,
       "left": null,
       "margin": null,
       "max_height": null,
       "max_width": null,
       "min_height": null,
       "min_width": null,
       "object_fit": null,
       "object_position": null,
       "order": null,
       "overflow": null,
       "overflow_x": null,
       "overflow_y": null,
       "padding": null,
       "right": null,
       "top": null,
       "visibility": null,
       "width": null
      }
     },
     "e25c118a1635462391977917b2b3c456": {
      "model_module": "@jupyter-widgets/controls",
      "model_module_version": "1.5.0",
      "model_name": "FloatProgressModel",
      "state": {
       "_dom_classes": [],
       "_model_module": "@jupyter-widgets/controls",
       "_model_module_version": "1.5.0",
       "_model_name": "FloatProgressModel",
       "_view_count": null,
       "_view_module": "@jupyter-widgets/controls",
       "_view_module_version": "1.5.0",
       "_view_name": "ProgressView",
       "bar_style": "success",
       "description": "",
       "description_tooltip": null,
       "layout": "IPY_MODEL_9811d582b47f4e37a0482617d501fa65",
       "max": 1961828.0,
       "min": 0.0,
       "orientation": "horizontal",
       "style": "IPY_MODEL_f07ca4130d324b3ea632d955eb48ba76",
       "value": 1961828.0
      }
     },
     "e2936debc4dd464ea7018dfc6044d442": {
      "model_module": "@jupyter-widgets/base",
      "model_module_version": "1.2.0",
      "model_name": "LayoutModel",
      "state": {
       "_model_module": "@jupyter-widgets/base",
       "_model_module_version": "1.2.0",
       "_model_name": "LayoutModel",
       "_view_count": null,
       "_view_module": "@jupyter-widgets/base",
       "_view_module_version": "1.2.0",
       "_view_name": "LayoutView",
       "align_content": null,
       "align_items": null,
       "align_self": null,
       "border": null,
       "bottom": null,
       "display": null,
       "flex": null,
       "flex_flow": null,
       "grid_area": null,
       "grid_auto_columns": null,
       "grid_auto_flow": null,
       "grid_auto_rows": null,
       "grid_column": null,
       "grid_gap": null,
       "grid_row": null,
       "grid_template_areas": null,
       "grid_template_columns": null,
       "grid_template_rows": null,
       "height": null,
       "justify_content": null,
       "justify_items": null,
       "left": null,
       "margin": null,
       "max_height": null,
       "max_width": null,
       "min_height": null,
       "min_width": null,
       "object_fit": null,
       "object_position": null,
       "order": null,
       "overflow": null,
       "overflow_x": null,
       "overflow_y": null,
       "padding": null,
       "right": null,
       "top": null,
       "visibility": null,
       "width": null
      }
     },
     "eacd45d1238e415189366a245c6da8e7": {
      "model_module": "@jupyter-widgets/controls",
      "model_module_version": "1.5.0",
      "model_name": "HTMLModel",
      "state": {
       "_dom_classes": [],
       "_model_module": "@jupyter-widgets/controls",
       "_model_module_version": "1.5.0",
       "_model_name": "HTMLModel",
       "_view_count": null,
       "_view_module": "@jupyter-widgets/controls",
       "_view_module_version": "1.5.0",
       "_view_name": "HTMLView",
       "description": "",
       "description_tooltip": null,
       "layout": "IPY_MODEL_8247a133cc40410eb7d5a9ce4f4f0b09",
       "placeholder": "​",
       "style": "IPY_MODEL_084c9fb4a68d408e8b18b278fa31fe1b",
       "value": "Downloading: 100%"
      }
     },
     "eea2e5aed65a44218f5a77be93400a84": {
      "model_module": "@jupyter-widgets/controls",
      "model_module_version": "1.5.0",
      "model_name": "HTMLModel",
      "state": {
       "_dom_classes": [],
       "_model_module": "@jupyter-widgets/controls",
       "_model_module_version": "1.5.0",
       "_model_name": "HTMLModel",
       "_view_count": null,
       "_view_module": "@jupyter-widgets/controls",
       "_view_module_version": "1.5.0",
       "_view_name": "HTMLView",
       "description": "",
       "description_tooltip": null,
       "layout": "IPY_MODEL_20522df2f2f04840acf6529771be91fd",
       "placeholder": "​",
       "style": "IPY_MODEL_3fbd049d9ffe4a218c895caa5c6352fc",
       "value": "Downloading: 100%"
      }
     },
     "eff66acf19764ec28717895cc235daeb": {
      "model_module": "@jupyter-widgets/controls",
      "model_module_version": "1.5.0",
      "model_name": "FloatProgressModel",
      "state": {
       "_dom_classes": [],
       "_model_module": "@jupyter-widgets/controls",
       "_model_module_version": "1.5.0",
       "_model_name": "FloatProgressModel",
       "_view_count": null,
       "_view_module": "@jupyter-widgets/controls",
       "_view_module_version": "1.5.0",
       "_view_name": "ProgressView",
       "bar_style": "success",
       "description": "",
       "description_tooltip": null,
       "layout": "IPY_MODEL_6539afbec7744ef7b0448986c77afb7a",
       "max": 1083389348.0,
       "min": 0.0,
       "orientation": "horizontal",
       "style": "IPY_MODEL_c42250cae8eb46ff8eda156a29a617a5",
       "value": 1083389348.0
      }
     },
     "f07ca4130d324b3ea632d955eb48ba76": {
      "model_module": "@jupyter-widgets/controls",
      "model_module_version": "1.5.0",
      "model_name": "ProgressStyleModel",
      "state": {
       "_model_module": "@jupyter-widgets/controls",
       "_model_module_version": "1.5.0",
       "_model_name": "ProgressStyleModel",
       "_view_count": null,
       "_view_module": "@jupyter-widgets/base",
       "_view_module_version": "1.2.0",
       "_view_name": "StyleView",
       "bar_color": null,
       "description_width": ""
      }
     },
     "f1ad3bdf13ec499a83938453078fbae4": {
      "model_module": "@jupyter-widgets/controls",
      "model_module_version": "1.5.0",
      "model_name": "HTMLModel",
      "state": {
       "_dom_classes": [],
       "_model_module": "@jupyter-widgets/controls",
       "_model_module_version": "1.5.0",
       "_model_name": "HTMLModel",
       "_view_count": null,
       "_view_module": "@jupyter-widgets/controls",
       "_view_module_version": "1.5.0",
       "_view_name": "HTMLView",
       "description": "",
       "description_tooltip": null,
       "layout": "IPY_MODEL_06fa4f92dd3b4161be68b3d93bdf31b1",
       "placeholder": "​",
       "style": "IPY_MODEL_3b4b5507b3b84a98b3d7411a1a571588",
       "value": " 996k/996k [00:00&lt;00:00, 1.76MB/s]"
      }
     },
     "fbd963ff68ef49b4b85ceac2fc0f5870": {
      "model_module": "@jupyter-widgets/controls",
      "model_module_version": "1.5.0",
      "model_name": "HBoxModel",
      "state": {
       "_dom_classes": [],
       "_model_module": "@jupyter-widgets/controls",
       "_model_module_version": "1.5.0",
       "_model_name": "HBoxModel",
       "_view_count": null,
       "_view_module": "@jupyter-widgets/controls",
       "_view_module_version": "1.5.0",
       "_view_name": "HBoxView",
       "box_style": "",
       "children": [
        "IPY_MODEL_d4ed6b0240a54485919f5db6f2bb5d67",
        "IPY_MODEL_eff66acf19764ec28717895cc235daeb",
        "IPY_MODEL_7cf749b1393e42828062a7a5783a9241"
       ],
       "layout": "IPY_MODEL_2ec22b122eea436b9e88da9a339c996e"
      }
     },
     "ff97d853801846228c821b24c1504424": {
      "model_module": "@jupyter-widgets/controls",
      "model_module_version": "1.5.0",
      "model_name": "DescriptionStyleModel",
      "state": {
       "_model_module": "@jupyter-widgets/controls",
       "_model_module_version": "1.5.0",
       "_model_name": "DescriptionStyleModel",
       "_view_count": null,
       "_view_module": "@jupyter-widgets/base",
       "_view_module_version": "1.2.0",
       "_view_name": "StyleView",
       "description_width": ""
      }
     }
    },
    "version_major": 2,
    "version_minor": 0
   }
  }
 },
 "nbformat": 4,
 "nbformat_minor": 5
}
